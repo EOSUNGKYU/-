{
  "nbformat": 4,
  "nbformat_minor": 0,
  "metadata": {
    "colab": {
      "private_outputs": true,
      "provenance": [],
      "authorship_tag": "ABX9TyMazSn3N5/Tf24cYv8cDNGK",
      "include_colab_link": true
    },
    "kernelspec": {
      "name": "python3",
      "display_name": "Python 3"
    },
    "language_info": {
      "name": "python"
    }
  },
  "cells": [
    {
      "cell_type": "markdown",
      "metadata": {
        "id": "view-in-github",
        "colab_type": "text"
      },
      "source": [
        "<a href=\"https://colab.research.google.com/github/EOSUNGKYU/-/blob/main/Affine_Functions.ipynb\" target=\"_parent\"><img src=\"https://colab.research.google.com/assets/colab-badge.svg\" alt=\"Open In Colab\"/></a>"
      ]
    },
    {
      "cell_type": "code",
      "execution_count": null,
      "metadata": {
        "id": "dEuYkUpbKiDO"
      },
      "outputs": [],
      "source": [
        "# 레이트와 바이어스를 자기가 원하는 값으로 초기화하는\n",
        "# 파라미터를 ㅓㅇ떻게 수정할 수 있는지 배워볼 것이다\n",
        "# \n",
        "\n"
      ]
    },
    {
      "cell_type": "code",
      "source": [],
      "metadata": {
        "id": "hHOPlBplBtUT"
      },
      "execution_count": null,
      "outputs": []
    },
    {
      "cell_type": "code",
      "source": [],
      "metadata": {
        "id": "_iZduU3QBtfN"
      },
      "execution_count": null,
      "outputs": []
    },
    {
      "cell_type": "code",
      "source": [
        "import tensorflow as tf\n",
        "\n",
        "#레이어 단위로 \n",
        "from tensorflow.keras.layers import Dense"
      ],
      "metadata": {
        "id": "Lvr1HlrGKiis"
      },
      "execution_count": null,
      "outputs": []
    },
    {
      "cell_type": "code",
      "source": [
        "#컨스턴스로 만들기.\n",
        "\n",
        "x = tf.constant([[10.]]) # 인풋 세팅을 한 것 인풋은 amtix 형태로 만들어야한다.\n",
        "\n",
        "aense = Dense(units = 1, activation='linear')  # imp. an affine function 을 만든 것이다. Dense에서는 w,b 가 있는 것이다. ,,\n",
        "y_tf = aense(x)\n",
        "# y_tf에는 y= wx+b로 만든 것임\n",
        "\n",
        "W, B = aense.get_weights()  #get weight, bias\n",
        "print(y_tf)\n",
        "\n",
        "# affine finction을 가져져\n",
        "print(W,B)\n",
        "\n",
        "# 텐서플로우에서 linalg의 함수들 중에서 amtmul 함수를 가져올 것이다.\n",
        "# 연산이 제대로 되었는지 확인하는 것. 검산의 과정\n",
        "y_man = tf.linalg.matmul(x,W)+B\n",
        "\n",
        " \n",
        "print('==== Input/Weight/Bias =====')\n",
        "print(\"x: {}\\n{}\\n\".format(x.shape, x.numpy())) # x값이 1 바이 1짜리가 들어왔다.\n",
        "print('W: {}\\n{}\\n'.format(W.shape, W))\n",
        "print('B: {}\\n{}\\n'.format(B.shape, B))\n",
        "\n",
        "\n",
        "# 아웃풋\n",
        "print('y(tensorflow: {}\\nn {}\\n)'.format(y_tf.shape, y_tf.numpy()))\n",
        "print('y(Manual): {}\\n{}\\n'.format(y_man.shape, y_man.numpy()))\n"
      ],
      "metadata": {
        "id": "0qqB1Yu8S5qH"
      },
      "execution_count": null,
      "outputs": []
    },
    {
      "cell_type": "code",
      "source": [
        "# 모델 안에서 어떤 작업이 일어나는지 알고 싶을 때\n",
        "#initializers란, 인공 신경망에서 가중치(weight)나 편향(bias) 등의 매개변수를 초기화(initialize)하는 함수를 의미합니다.\n",
        "import tensorflow as tf\n",
        "from tensorflow.keras.layers import Dense\n",
        "from tensorflow.keras.initializers import Constant\n",
        "#tensorflow는 32비트로 움직이기 때문에 숫자를 쓸때 .을 쓰는 습관을 들여라\n",
        "w, b = tf.constant(10.), tf.constant(20.) # 내가 만들 w,b는 각각 10과 20이야\n",
        "w_init, b_init= Constant(w) , Constant(b)\n",
        "print(w_init, b_init) # 이 두개가 뭐냐! w와 b를 초기화시켜주는 옵션\n",
        "\n",
        "# 초기화를 어떻게 시켜주냐?\n",
        "#3 affine function을 만드는 데 살짝 다르게 만들 것이다.\n",
        "dense = Dense(units=1,\n",
        "              activation='linear', \n",
        "              kernel_initializer=w_init,\n",
        "              bias_initializer=b_init)\n",
        "y_tf = dense(x)\n",
        "print(y_tf) # 120값이 나옴 ,, 10*10 +20 ,, w:10, B:20\n",
        "\n",
        "# 학습을 잘 일어나는 지를 확인할 때  웨이트와 바이어스를 설정을 해줄 때가 있다.\n",
        "# 그래서 배우는거야\n",
        "# 논문같은 것들을 실행할 때 하나하나검증을 할 때 필요하다.\n",
        "\n",
        "W, B = dense.get_weights()\n",
        "\n",
        "print(\"W: {}\\n{}\\n\".format(W.shape,W))\n",
        "#im\n",
        "#\n",
        "print(\"B: {}\\n{}\\n\".format(B.shape, B))"
      ],
      "metadata": {
        "id": "sELNXAilUTSG"
      },
      "execution_count": null,
      "outputs": []
    },
    {
      "cell_type": "code",
      "source": [
        "import tensorflow as tf\n",
        "\n",
        "from tensorflow.keras.layers import Dense\n",
        "\n",
        "x = tf.random.uniform(shape=(1,10), minval=0, maxval=10) # 1\n",
        "print(x.shape, '\\n', x)\n",
        "\n",
        "# 유닛은 1로 설정정\n",
        "dense = Dense(units=1)\n",
        "\n",
        "\n",
        "# 텐스플로우에서 만들어주는 거 가쟈오고 ,, 해당 함수를 실행 시키면 dense.get_weights을 알아서 초기화 된다.\n",
        "y_tf = dense(x)\n",
        "\n",
        "# 알아서 초기화 되는 것이다. Z값을 연산하는 것 자체가  z= (x)T*W+B ,\n",
        "W, B = dense.get_weights()\n",
        "\n",
        "\n",
        "# x,W 검증 할 것이다.\n",
        "y_man = tf.linalg.matmul(x,W)+B\n",
        "\n",
        "print('==== Input/Weight/Bias =====')\n",
        "print(\"x: {}\\n{}\\n\".format(x.shape, x.numpy())) # x값이 1 바이 1짜리가 들어왔다.\n",
        "print('W: {}\\n{}\\n'.format(W.shape, W))\n",
        "print('B: {}\\n{}\\n'.format(B.shape, B))\n",
        "\n",
        "\n",
        "# 아웃풋\n",
        "print('y(tensorflow: {}\\nn {}\\n)'.format(y_tf.shape, y_tf.numpy()))\n",
        "print('y(Manual): {}\\n{}\\n'.format(y_man.shape, y_man.numpy()))\n",
        "\n",
        "# dense layer를 만드는 함수\n",
        "# dense에 변수를 넣어주고 실행을 시키면 dense에서 알아서 W와 B를 반환하게 된다\n",
        "# 여기서 dense가 적절히 잘 시행했는지 알기 위해서는 tf.linalg.matumul을 사용한다.\n",
        "# 따라서 y_tf와 y_man 의 값이 동일하다면 dense_layer를 잘 만든 것으로 ㅎ알 수 있다."
      ],
      "metadata": {
        "id": "C3xENBvTT74b"
      },
      "execution_count": null,
      "outputs": []
    }
  ]
}